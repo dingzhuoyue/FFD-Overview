{
 "cells": [
  {
   "cell_type": "markdown",
   "id": "875f1b4c",
   "metadata": {
    "id": "3xVPYbw0dc3d",
    "papermill": {
     "duration": 0.018885,
     "end_time": "2024-07-12T21:14:14.941801",
     "exception": false,
     "start_time": "2024-07-12T21:14:14.922916",
     "status": "completed"
    },
    "tags": []
   },
   "source": [
    "# Mount Drive with Colab"
   ]
  },
  {
   "cell_type": "markdown",
   "id": "dd6358d4",
   "metadata": {
    "id": "MSTSatFteL0f",
    "papermill": {
     "duration": 0.018084,
     "end_time": "2024-07-12T21:14:14.978722",
     "exception": false,
     "start_time": "2024-07-12T21:14:14.960638",
     "status": "completed"
    },
    "tags": []
   },
   "source": [
    "# Import Libraries"
   ]
  },
  {
   "cell_type": "code",
   "execution_count": 1,
   "id": "dfa98b78",
   "metadata": {
    "execution": {
     "iopub.execute_input": "2024-07-12T21:14:15.017820Z",
     "iopub.status.busy": "2024-07-12T21:14:15.017451Z",
     "iopub.status.idle": "2024-07-12T21:14:31.012915Z",
     "shell.execute_reply": "2024-07-12T21:14:31.012134Z"
    },
    "executionInfo": {
     "elapsed": 20126,
     "status": "ok",
     "timestamp": 1703695492062,
     "user": {
      "displayName": "Nimra",
      "userId": "10918658773379819736"
     },
     "user_tz": 420
    },
    "id": "09jfplOPeLdL",
    "papermill": {
     "duration": 16.018165,
     "end_time": "2024-07-12T21:14:31.015428",
     "exception": false,
     "start_time": "2024-07-12T21:14:14.997263",
     "status": "completed"
    },
    "tags": []
   },
   "outputs": [
    {
     "name": "stderr",
     "output_type": "stream",
     "text": [
      "2024-07-12 21:14:18.126345: E external/local_xla/xla/stream_executor/cuda/cuda_dnn.cc:9261] Unable to register cuDNN factory: Attempting to register factory for plugin cuDNN when one has already been registered\n",
      "2024-07-12 21:14:18.126454: E external/local_xla/xla/stream_executor/cuda/cuda_fft.cc:607] Unable to register cuFFT factory: Attempting to register factory for plugin cuFFT when one has already been registered\n",
      "2024-07-12 21:14:18.300102: E external/local_xla/xla/stream_executor/cuda/cuda_blas.cc:1515] Unable to register cuBLAS factory: Attempting to register factory for plugin cuBLAS when one has already been registered\n"
     ]
    }
   ],
   "source": [
    "import numpy as np\n",
    "import pandas as pd\n",
    "import os\n",
    "import tensorflow as tf\n",
    "import matplotlib.pyplot as plt\n",
    "from tensorflow.keras.models import Sequential, Model\n",
    "from tensorflow.keras.applications import ResNet50\n",
    "from sklearn.metrics import classification_report\n",
    "from tensorflow import keras\n",
    "from tensorflow.keras import layers\n",
    "\n",
    "from keras.layers import Conv2D, MaxPooling2D, Flatten, Dense, Dropout\n",
    "from keras.applications.vgg16 import VGG16"
   ]
  },
  {
   "cell_type": "code",
   "execution_count": 2,
   "id": "aa9ab588",
   "metadata": {
    "execution": {
     "iopub.execute_input": "2024-07-12T21:14:31.056518Z",
     "iopub.status.busy": "2024-07-12T21:14:31.055899Z",
     "iopub.status.idle": "2024-07-12T21:14:31.352847Z",
     "shell.execute_reply": "2024-07-12T21:14:31.351856Z"
    },
    "papermill": {
     "duration": 0.319676,
     "end_time": "2024-07-12T21:14:31.355236",
     "exception": false,
     "start_time": "2024-07-12T21:14:31.035560",
     "status": "completed"
    },
    "tags": []
   },
   "outputs": [
    {
     "data": {
      "text/html": [
       "<div>\n",
       "<style scoped>\n",
       "    .dataframe tbody tr th:only-of-type {\n",
       "        vertical-align: middle;\n",
       "    }\n",
       "\n",
       "    .dataframe tbody tr th {\n",
       "        vertical-align: top;\n",
       "    }\n",
       "\n",
       "    .dataframe thead th {\n",
       "        text-align: right;\n",
       "    }\n",
       "</style>\n",
       "<table border=\"1\" class=\"dataframe\">\n",
       "  <thead>\n",
       "    <tr style=\"text-align: right;\">\n",
       "      <th></th>\n",
       "      <th>path</th>\n",
       "      <th>label</th>\n",
       "    </tr>\n",
       "  </thead>\n",
       "  <tbody>\n",
       "    <tr>\n",
       "      <th>0</th>\n",
       "      <td>/kaggle/input/forest-fire-dataset/Forest Fire ...</td>\n",
       "      <td>non_fire</td>\n",
       "    </tr>\n",
       "    <tr>\n",
       "      <th>1</th>\n",
       "      <td>/kaggle/input/forest-fire-dataset/Forest Fire ...</td>\n",
       "      <td>non_fire</td>\n",
       "    </tr>\n",
       "    <tr>\n",
       "      <th>2</th>\n",
       "      <td>/kaggle/input/forest-fire-dataset/Forest Fire ...</td>\n",
       "      <td>non_fire</td>\n",
       "    </tr>\n",
       "    <tr>\n",
       "      <th>3</th>\n",
       "      <td>/kaggle/input/forest-fire-dataset/Forest Fire ...</td>\n",
       "      <td>fire</td>\n",
       "    </tr>\n",
       "    <tr>\n",
       "      <th>4</th>\n",
       "      <td>/kaggle/input/forest-fire-dataset/Forest Fire ...</td>\n",
       "      <td>fire</td>\n",
       "    </tr>\n",
       "    <tr>\n",
       "      <th>...</th>\n",
       "      <td>...</td>\n",
       "      <td>...</td>\n",
       "    </tr>\n",
       "    <tr>\n",
       "      <th>1515</th>\n",
       "      <td>/kaggle/input/forest-fire-dataset/Forest Fire ...</td>\n",
       "      <td>non_fire</td>\n",
       "    </tr>\n",
       "    <tr>\n",
       "      <th>1516</th>\n",
       "      <td>/kaggle/input/forest-fire-dataset/Forest Fire ...</td>\n",
       "      <td>non_fire</td>\n",
       "    </tr>\n",
       "    <tr>\n",
       "      <th>1517</th>\n",
       "      <td>/kaggle/input/forest-fire-dataset/Forest Fire ...</td>\n",
       "      <td>non_fire</td>\n",
       "    </tr>\n",
       "    <tr>\n",
       "      <th>1518</th>\n",
       "      <td>/kaggle/input/forest-fire-dataset/Forest Fire ...</td>\n",
       "      <td>non_fire</td>\n",
       "    </tr>\n",
       "    <tr>\n",
       "      <th>1519</th>\n",
       "      <td>/kaggle/input/forest-fire-dataset/Forest Fire ...</td>\n",
       "      <td>non_fire</td>\n",
       "    </tr>\n",
       "  </tbody>\n",
       "</table>\n",
       "<p>1520 rows × 2 columns</p>\n",
       "</div>"
      ],
      "text/plain": [
       "                                                   path     label\n",
       "0     /kaggle/input/forest-fire-dataset/Forest Fire ...  non_fire\n",
       "1     /kaggle/input/forest-fire-dataset/Forest Fire ...  non_fire\n",
       "2     /kaggle/input/forest-fire-dataset/Forest Fire ...  non_fire\n",
       "3     /kaggle/input/forest-fire-dataset/Forest Fire ...      fire\n",
       "4     /kaggle/input/forest-fire-dataset/Forest Fire ...      fire\n",
       "...                                                 ...       ...\n",
       "1515  /kaggle/input/forest-fire-dataset/Forest Fire ...  non_fire\n",
       "1516  /kaggle/input/forest-fire-dataset/Forest Fire ...  non_fire\n",
       "1517  /kaggle/input/forest-fire-dataset/Forest Fire ...  non_fire\n",
       "1518  /kaggle/input/forest-fire-dataset/Forest Fire ...  non_fire\n",
       "1519  /kaggle/input/forest-fire-dataset/Forest Fire ...  non_fire\n",
       "\n",
       "[1520 rows x 2 columns]"
      ]
     },
     "execution_count": 2,
     "metadata": {},
     "output_type": "execute_result"
    }
   ],
   "source": [
    "df = pd.DataFrame(columns=['path', 'label'])\n",
    "path_fire = r'/kaggle/input/forest-fire-dataset/Forest Fire Dataset/Training/fire'\n",
    "path_not_fire = r'/kaggle/input/forest-fire-dataset/Forest Fire Dataset/Training/nofire'\n",
    "\n",
    "fire_data = []\n",
    "not_fire_data = []\n",
    "\n",
    "for dirname, _, filenames in os.walk(path_fire):\n",
    "    for filename in filenames:\n",
    "        fire_data.append([os.path.join(dirname, filename), 'fire'])\n",
    "\n",
    "for dirname, _, filenames in os.walk(path_not_fire):\n",
    "    for filename in filenames:\n",
    "        not_fire_data.append([os.path.join(dirname, filename), 'non_fire'])\n",
    "\n",
    "fire_df = pd.DataFrame(fire_data, columns=['path', 'label'])\n",
    "not_fire_df = pd.DataFrame(not_fire_data, columns=['path', 'label'])\n",
    "\n",
    "df = pd.concat([fire_df, not_fire_df]).sample(frac=1).reset_index(drop=True)\n",
    "df = df.sample(frac=1).reset_index(drop=True)\n",
    "# df.head(20)\n",
    "df"
   ]
  },
  {
   "cell_type": "markdown",
   "id": "a5f998b1",
   "metadata": {
    "id": "YM0YMY0aeSfj",
    "papermill": {
     "duration": 0.020065,
     "end_time": "2024-07-12T21:14:31.396312",
     "exception": false,
     "start_time": "2024-07-12T21:14:31.376247",
     "status": "completed"
    },
    "tags": []
   },
   "source": [
    "# Load Dataset"
   ]
  },
  {
   "cell_type": "code",
   "execution_count": 3,
   "id": "bef0cfb0",
   "metadata": {
    "execution": {
     "iopub.execute_input": "2024-07-12T21:14:31.438220Z",
     "iopub.status.busy": "2024-07-12T21:14:31.437878Z",
     "iopub.status.idle": "2024-07-12T21:14:31.445561Z",
     "shell.execute_reply": "2024-07-12T21:14:31.444455Z"
    },
    "executionInfo": {
     "elapsed": 391,
     "status": "ok",
     "timestamp": 1703695598079,
     "user": {
      "displayName": "Nimra",
      "userId": "10918658773379819736"
     },
     "user_tz": 420
    },
    "id": "egSdOPRIeWuA",
    "outputId": "68b54f27-af32-4d44-d440-312b5764a4e9",
    "papermill": {
     "duration": 0.03144,
     "end_time": "2024-07-12T21:14:31.447860",
     "exception": false,
     "start_time": "2024-07-12T21:14:31.416420",
     "status": "completed"
    },
    "tags": []
   },
   "outputs": [
    {
     "name": "stdout",
     "output_type": "stream",
     "text": [
      "Names of Directory : ['Forest Fire Dataset']\n",
      "Number of Directory : 1\n"
     ]
    }
   ],
   "source": [
    "directory_link=\"/kaggle/input/forest-fire-dataset\"\n",
    "directory=os.listdir(directory_link)\n",
    "print(\"Names of Directory :\" , directory )\n",
    "print(\"Number of Directory :\" , len(directory))"
   ]
  },
  {
   "cell_type": "markdown",
   "id": "fd17594a",
   "metadata": {
    "id": "_ZyUREB4PsqQ",
    "papermill": {
     "duration": 0.020135,
     "end_time": "2024-07-12T21:14:31.488169",
     "exception": false,
     "start_time": "2024-07-12T21:14:31.468034",
     "status": "completed"
    },
    "tags": []
   },
   "source": [
    "# Preprocessing and Feature Engineering"
   ]
  },
  {
   "cell_type": "code",
   "execution_count": 4,
   "id": "2cfde3a7",
   "metadata": {
    "execution": {
     "iopub.execute_input": "2024-07-12T21:14:31.529794Z",
     "iopub.status.busy": "2024-07-12T21:14:31.529501Z",
     "iopub.status.idle": "2024-07-12T21:14:31.533598Z",
     "shell.execute_reply": "2024-07-12T21:14:31.532697Z"
    },
    "executionInfo": {
     "elapsed": 518,
     "status": "ok",
     "timestamp": 1703695628150,
     "user": {
      "displayName": "Nimra",
      "userId": "10918658773379819736"
     },
     "user_tz": 420
    },
    "id": "GZF5bymTmOXO",
    "papermill": {
     "duration": 0.027305,
     "end_time": "2024-07-12T21:14:31.535644",
     "exception": false,
     "start_time": "2024-07-12T21:14:31.508339",
     "status": "completed"
    },
    "tags": []
   },
   "outputs": [],
   "source": [
    "data='/kaggle/input/forest-fire-dataset/Forest Fire Dataset/Training'"
   ]
  },
  {
   "cell_type": "code",
   "execution_count": 5,
   "id": "fc661503",
   "metadata": {
    "execution": {
     "iopub.execute_input": "2024-07-12T21:14:31.577232Z",
     "iopub.status.busy": "2024-07-12T21:14:31.576907Z",
     "iopub.status.idle": "2024-07-12T21:14:31.581298Z",
     "shell.execute_reply": "2024-07-12T21:14:31.580300Z"
    },
    "executionInfo": {
     "elapsed": 5,
     "status": "ok",
     "timestamp": 1703695629491,
     "user": {
      "displayName": "Nimra",
      "userId": "10918658773379819736"
     },
     "user_tz": 420
    },
    "id": "m_sbMxKA0B5c",
    "papermill": {
     "duration": 0.02738,
     "end_time": "2024-07-12T21:14:31.583364",
     "exception": false,
     "start_time": "2024-07-12T21:14:31.555984",
     "status": "completed"
    },
    "tags": []
   },
   "outputs": [],
   "source": [
    "batch_size = 32\n",
    "img_height = 180\n",
    "img_width = 180"
   ]
  },
  {
   "cell_type": "code",
   "execution_count": 6,
   "id": "366394bd",
   "metadata": {
    "execution": {
     "iopub.execute_input": "2024-07-12T21:14:31.623788Z",
     "iopub.status.busy": "2024-07-12T21:14:31.623493Z",
     "iopub.status.idle": "2024-07-12T21:14:34.614154Z",
     "shell.execute_reply": "2024-07-12T21:14:34.613335Z"
    },
    "executionInfo": {
     "elapsed": 7051,
     "status": "ok",
     "timestamp": 1703695637098,
     "user": {
      "displayName": "Nimra",
      "userId": "10918658773379819736"
     },
     "user_tz": 420
    },
    "id": "vtsExgCNzwlY",
    "outputId": "e3835108-b4f0-4b21-abfe-524d31412328",
    "papermill": {
     "duration": 3.013552,
     "end_time": "2024-07-12T21:14:34.616556",
     "exception": false,
     "start_time": "2024-07-12T21:14:31.603004",
     "status": "completed"
    },
    "tags": []
   },
   "outputs": [
    {
     "name": "stdout",
     "output_type": "stream",
     "text": [
      "Found 1520 files belonging to 2 classes.\n",
      "Using 1216 files for training.\n"
     ]
    }
   ],
   "source": [
    "train_ds = tf.keras.utils.image_dataset_from_directory(\n",
    "  data,\n",
    "  validation_split=0.2,\n",
    "  subset=\"training\",\n",
    "  shuffle=True,\n",
    "  seed=123,\n",
    "  image_size=(img_height, img_width),\n",
    "  batch_size=batch_size)"
   ]
  },
  {
   "cell_type": "code",
   "execution_count": 7,
   "id": "af8430c7",
   "metadata": {
    "execution": {
     "iopub.execute_input": "2024-07-12T21:14:34.657012Z",
     "iopub.status.busy": "2024-07-12T21:14:34.656700Z",
     "iopub.status.idle": "2024-07-12T21:14:35.235461Z",
     "shell.execute_reply": "2024-07-12T21:14:35.234716Z"
    },
    "executionInfo": {
     "elapsed": 498,
     "status": "ok",
     "timestamp": 1703695637588,
     "user": {
      "displayName": "Nimra",
      "userId": "10918658773379819736"
     },
     "user_tz": 420
    },
    "id": "6rgKjvQm1vVp",
    "outputId": "3b627f8e-47aa-45ff-f734-44919225bfcd",
    "papermill": {
     "duration": 0.601377,
     "end_time": "2024-07-12T21:14:35.237742",
     "exception": false,
     "start_time": "2024-07-12T21:14:34.636365",
     "status": "completed"
    },
    "tags": []
   },
   "outputs": [
    {
     "name": "stdout",
     "output_type": "stream",
     "text": [
      "Found 1520 files belonging to 2 classes.\n",
      "Using 304 files for validation.\n"
     ]
    }
   ],
   "source": [
    "val_ds = tf.keras.utils.image_dataset_from_directory(\n",
    "  data,\n",
    "  validation_split=0.2,\n",
    "  subset=\"validation\",\n",
    "  shuffle=True,\n",
    "  seed=123,\n",
    "  image_size=(img_height, img_width),\n",
    "  batch_size=batch_size)"
   ]
  },
  {
   "cell_type": "code",
   "execution_count": 8,
   "id": "bc932b2d",
   "metadata": {
    "execution": {
     "iopub.execute_input": "2024-07-12T21:14:35.277999Z",
     "iopub.status.busy": "2024-07-12T21:14:35.277461Z",
     "iopub.status.idle": "2024-07-12T21:14:35.282485Z",
     "shell.execute_reply": "2024-07-12T21:14:35.281641Z"
    },
    "executionInfo": {
     "elapsed": 496,
     "status": "ok",
     "timestamp": 1703695661530,
     "user": {
      "displayName": "Nimra",
      "userId": "10918658773379819736"
     },
     "user_tz": 420
    },
    "id": "JJqIeJCmZP-J",
    "outputId": "efad1ced-3732-4a67-ab56-223a7852c4a6",
    "papermill": {
     "duration": 0.027757,
     "end_time": "2024-07-12T21:14:35.284888",
     "exception": false,
     "start_time": "2024-07-12T21:14:35.257131",
     "status": "completed"
    },
    "tags": []
   },
   "outputs": [
    {
     "name": "stdout",
     "output_type": "stream",
     "text": [
      "Class: ['fire', 'nofire']\n",
      "No of Classes : 2\n"
     ]
    }
   ],
   "source": [
    "class_names = train_ds.class_names\n",
    "print(\"Class:\" , class_names)\n",
    "print(\"No of Classes :\" , len(class_names))"
   ]
  },
  {
   "cell_type": "markdown",
   "id": "c1e6ec1e",
   "metadata": {
    "id": "JR47PniYs-0U",
    "papermill": {
     "duration": 0.018996,
     "end_time": "2024-07-12T21:14:35.322939",
     "exception": false,
     "start_time": "2024-07-12T21:14:35.303943",
     "status": "completed"
    },
    "tags": []
   },
   "source": [
    "# Visulization"
   ]
  },
  {
   "cell_type": "code",
   "execution_count": 9,
   "id": "109be7d8",
   "metadata": {
    "execution": {
     "iopub.execute_input": "2024-07-12T21:14:35.361953Z",
     "iopub.status.busy": "2024-07-12T21:14:35.361667Z",
     "iopub.status.idle": "2024-07-12T21:14:35.866391Z",
     "shell.execute_reply": "2024-07-12T21:14:35.865468Z"
    },
    "papermill": {
     "duration": 0.527199,
     "end_time": "2024-07-12T21:14:35.869008",
     "exception": false,
     "start_time": "2024-07-12T21:14:35.341809",
     "status": "completed"
    },
    "tags": []
   },
   "outputs": [
    {
     "data": {
      "image/png": "[encoded data removed]",
      "text/plain": [
       "<Figure size 1400x600 with 2 Axes>"
      ]
     },
     "metadata": {},
     "output_type": "display_data"
    }
   ],
   "source": [
    "import matplotlib.pyplot as plt\n",
    "import pandas as pd\n",
    "import numpy as np\n",
    "\n",
    "# Sử dụng %matplotlib inline để hiển thị biểu đồ trong notebook\n",
    "%matplotlib inline\n",
    "\n",
    "\n",
    "# Đếm số lượng mỗi nhãn\n",
    "label_counts = df['label'].value_counts()\n",
    "\n",
    "# Tạo figure và gridspec\n",
    "fig = plt.figure(figsize=(14, 6))\n",
    "gs = fig.add_gridspec(1, 2, width_ratios=[1, 1.5])\n",
    "\n",
    "# Tạo biểu đồ cột ở subplot 1\n",
    "ax1 = fig.add_subplot(gs[0])\n",
    "ax1.bar(label_counts.index, label_counts.values, color=['darkorange', 'green'])\n",
    "ax1.set_title('Bar Plot')\n",
    "ax1.set_xlabel('Label')\n",
    "ax1.set_ylabel('Count')\n",
    "\n",
    "# Tạo biểu đồ tròn ở subplot 2\n",
    "ax2 = fig.add_subplot(gs[1])\n",
    "ax2.pie(label_counts.values, labels=label_counts.index, colors=['darkorange', 'green'], autopct='%1.1f%%')\n",
    "ax2.set_title('Pie Chart')\n",
    "\n",
    "# Hiển thị biểu đồ\n",
    "plt.suptitle('Distribution of Fire and Non-Fire Images')\n",
    "plt.tight_layout()\n",
    "plt.show()\n"
   ]
  },
  {
   "cell_type": "code",
   "execution_count": 10,
   "id": "c51bc7a3",
   "metadata": {
    "execution": {
     "iopub.execute_input": "2024-07-12T21:14:35.911246Z",
     "iopub.status.busy": "2024-07-12T21:14:35.910463Z",
     "iopub.status.idle": "2024-07-12T21:14:36.698825Z",
     "shell.execute_reply": "2024-07-12T21:14:36.697416Z"
    },
    "papermill": {
     "duration": 0.811355,
     "end_time": "2024-07-12T21:14:36.700685",
     "exception": true,
     "start_time": "2024-07-12T21:14:35.889330",
     "status": "failed"
    },
    "tags": []
   },
   "outputs": [
    {
     "ename": "NameError",
     "evalue": "name 'sns' is not defined",
     "output_type": "error",
     "traceback": [
      "\u001b[0;31m---------------------------------------------------------------------------\u001b[0m",
      "\u001b[0;31mNameError\u001b[0m                                 Traceback (most recent call last)",
      "Cell \u001b[0;32mIn[10], line 6\u001b[0m\n\u001b[1;32m      4\u001b[0m label \u001b[38;5;241m=\u001b[39m \u001b[38;5;124m'\u001b[39m\u001b[38;5;124mfire\u001b[39m\u001b[38;5;124m'\u001b[39m \u001b[38;5;66;03m#label for images with fire\u001b[39;00m\n\u001b[1;32m      5\u001b[0m data \u001b[38;5;241m=\u001b[39m df[df[\u001b[38;5;124m'\u001b[39m\u001b[38;5;124mlabel\u001b[39m\u001b[38;5;124m'\u001b[39m] \u001b[38;5;241m==\u001b[39m label]\n\u001b[0;32m----> 6\u001b[0m \u001b[43msns\u001b[49m\u001b[38;5;241m.\u001b[39mset_style(\u001b[38;5;124m'\u001b[39m\u001b[38;5;124mdark\u001b[39m\u001b[38;5;124m'\u001b[39m)\n\u001b[1;32m      9\u001b[0m pics \u001b[38;5;241m=\u001b[39m \u001b[38;5;241m6\u001b[39m \u001b[38;5;66;03m#set the number of pics\u001b[39;00m\n\u001b[1;32m     10\u001b[0m fig,ax \u001b[38;5;241m=\u001b[39m plt\u001b[38;5;241m.\u001b[39msubplots(\u001b[38;5;28mint\u001b[39m(pics\u001b[38;5;241m/\u001b[39m\u001b[38;5;241m/\u001b[39m\u001b[38;5;241m2\u001b[39m),\u001b[38;5;241m2\u001b[39m,figsize\u001b[38;5;241m=\u001b[39m(\u001b[38;5;241m8\u001b[39m,\u001b[38;5;241m10\u001b[39m))\n",
      "\u001b[0;31mNameError\u001b[0m: name 'sns' is not defined"
     ]
    }
   ],
   "source": [
    "from tensorflow.keras.preprocessing import image\n",
    "\n",
    "\n",
    "label = 'fire' #label for images with fire\n",
    "data = df[df['label'] == label]\n",
    "sns.set_style('dark')\n",
    "\n",
    "\n",
    "pics = 6 #set the number of pics\n",
    "fig,ax = plt.subplots(int(pics//2),2,figsize=(8,10))\n",
    "plt.suptitle('Images with Fire')\n",
    "ax = ax.ravel()\n",
    "for i in range((pics//2)*2):\n",
    "    path = data.sample(1).loc[:,'path'].to_numpy()[0]\n",
    "    img = image.load_img(path)\n",
    "    img = image.img_to_array(img)/255\n",
    "    ax[i].imshow(img)\n",
    "    ax[i].axes.xaxis.set_visible(False)\n",
    "    ax[i].axes.yaxis.set_visible(False)"
   ]
  },
  {
   "cell_type": "code",
   "execution_count": null,
   "id": "b4ad70c5",
   "metadata": {
    "execution": {
     "iopub.execute_input": "2024-07-12T20:55:53.373739Z",
     "iopub.status.busy": "2024-07-12T20:55:53.372738Z",
     "iopub.status.idle": "2024-07-12T20:55:53.987309Z",
     "shell.execute_reply": "2024-07-12T20:55:53.986339Z",
     "shell.execute_reply.started": "2024-07-12T20:55:53.373695Z"
    },
    "papermill": {
     "duration": null,
     "end_time": null,
     "exception": null,
     "start_time": null,
     "status": "pending"
    },
    "tags": []
   },
   "outputs": [],
   "source": [
    "label = 'non_fire' #label for images without fire\n",
    "data = df[df['label'] == label]\n",
    "sns.set_style('dark')\n",
    "\n",
    "\n",
    "pics = 6 #set the number of pics\n",
    "fig,ax = plt.subplots(int(pics//2),2,figsize=(8,10))\n",
    "plt.suptitle('Images with non Fire')\n",
    "ax = ax.ravel()\n",
    "for i in range((pics//2)*2):\n",
    "    path = data.sample(1).loc[:,'path'].to_numpy()[0]\n",
    "    img = image.load_img(path)\n",
    "    img = image.img_to_array(img)/255\n",
    "    ax[i].imshow(img)\n",
    "    ax[i].axes.xaxis.set_visible(False)\n",
    "    ax[i].axes.yaxis.set_visible(False)"
   ]
  },
  {
   "cell_type": "code",
   "execution_count": null,
   "id": "649699a8",
   "metadata": {
    "execution": {
     "iopub.execute_input": "2024-07-12T20:56:30.323968Z",
     "iopub.status.busy": "2024-07-12T20:56:30.323288Z",
     "iopub.status.idle": "2024-07-12T20:56:34.154067Z",
     "shell.execute_reply": "2024-07-12T20:56:34.152997Z",
     "shell.execute_reply.started": "2024-07-12T20:56:30.323932Z"
    },
    "papermill": {
     "duration": null,
     "end_time": null,
     "exception": null,
     "start_time": null,
     "status": "pending"
    },
    "tags": []
   },
   "outputs": [],
   "source": [
    "def shaper(row):\n",
    "    shape = image.load_img(row['path']).size\n",
    "    row['height'] = shape[1]\n",
    "    row['width'] = shape[0]\n",
    "    return row\n",
    "df = df.apply(shaper,axis=1)\n",
    "df"
   ]
  },
  {
   "cell_type": "code",
   "execution_count": null,
   "id": "31f7a286",
   "metadata": {
    "execution": {
     "iopub.execute_input": "2024-07-12T20:56:53.103902Z",
     "iopub.status.busy": "2024-07-12T20:56:53.103110Z",
     "iopub.status.idle": "2024-07-12T20:56:54.231665Z",
     "shell.execute_reply": "2024-07-12T20:56:54.230737Z",
     "shell.execute_reply.started": "2024-07-12T20:56:53.103865Z"
    },
    "papermill": {
     "duration": null,
     "end_time": null,
     "exception": null,
     "start_time": null,
     "status": "pending"
    },
    "tags": []
   },
   "outputs": [],
   "source": [
    "sns.set_style('darkgrid')\n",
    "fig,(ax1,ax2,ax3) = plt.subplots(1,3,gridspec_kw={'width_ratios': [3,0.5,0.5]},figsize=(15,10))\n",
    "sns.kdeplot(data=df.drop(columns=['path','label']),ax=ax1,legend=True)\n",
    "sns.boxplot(data=df,y='height',ax=ax2,color='skyblue')\n",
    "sns.boxplot(data=df,y='width',ax=ax3,color='orange')\n",
    "plt.suptitle('Distribution of image shapes')\n",
    "ax3.set_ylim(0,7000)\n",
    "ax2.set_ylim(0,7000)\n",
    "plt.tight_layout()"
   ]
  },
  {
   "cell_type": "markdown",
   "id": "8f361500",
   "metadata": {
    "id": "4L80XUwtC2ER",
    "papermill": {
     "duration": null,
     "end_time": null,
     "exception": null,
     "start_time": null,
     "status": "pending"
    },
    "tags": []
   },
   "source": [
    "### RGB Images"
   ]
  },
  {
   "cell_type": "code",
   "execution_count": null,
   "id": "477828b5",
   "metadata": {
    "execution": {
     "iopub.execute_input": "2024-07-12T19:58:36.605306Z",
     "iopub.status.busy": "2024-07-12T19:58:36.604934Z",
     "iopub.status.idle": "2024-07-12T19:58:38.868577Z",
     "shell.execute_reply": "2024-07-12T19:58:38.867359Z",
     "shell.execute_reply.started": "2024-07-12T19:58:36.605278Z"
    },
    "executionInfo": {
     "elapsed": 89471,
     "status": "ok",
     "timestamp": 1703695753823,
     "user": {
      "displayName": "Nimra",
      "userId": "10918658773379819736"
     },
     "user_tz": 420
    },
    "id": "4ou-fXNbWseh",
    "outputId": "0bf33dc5-3f12-4cdf-84f7-2268dd7ba9e4",
    "papermill": {
     "duration": null,
     "end_time": null,
     "exception": null,
     "start_time": null,
     "status": "pending"
    },
    "tags": []
   },
   "outputs": [],
   "source": [
    "plt.figure(figsize=(10, 10))\n",
    "for images, label in train_ds.take(5):\n",
    "  for i in range(9):\n",
    "    ax = plt.subplot(3, 3, i + 1)\n",
    "    plt.imshow(images[i].numpy().astype(\"uint8\"))\n",
    "    plt.title(class_names[label[i]])\n",
    "    plt.axis(\"off\")"
   ]
  },
  {
   "cell_type": "markdown",
   "id": "b5149cd3",
   "metadata": {
    "id": "4sZm8f-2B0wL",
    "papermill": {
     "duration": null,
     "end_time": null,
     "exception": null,
     "start_time": null,
     "status": "pending"
    },
    "tags": []
   },
   "source": [
    "### RGB Images Convert Into GrayScale"
   ]
  },
  {
   "cell_type": "code",
   "execution_count": null,
   "id": "665e7462",
   "metadata": {
    "execution": {
     "iopub.execute_input": "2024-07-12T19:58:49.478638Z",
     "iopub.status.busy": "2024-07-12T19:58:49.477762Z",
     "iopub.status.idle": "2024-07-12T19:58:51.683786Z",
     "shell.execute_reply": "2024-07-12T19:58:51.682863Z",
     "shell.execute_reply.started": "2024-07-12T19:58:49.478606Z"
    },
    "executionInfo": {
     "elapsed": 8830,
     "status": "ok",
     "timestamp": 1703695768549,
     "user": {
      "displayName": "Nimra",
      "userId": "10918658773379819736"
     },
     "user_tz": 420
    },
    "id": "jW_3sHpqDBjv",
    "outputId": "96d20e62-83c3-40c0-f5a6-8d86f39bbbb7",
    "papermill": {
     "duration": null,
     "end_time": null,
     "exception": null,
     "start_time": null,
     "status": "pending"
    },
    "tags": []
   },
   "outputs": [],
   "source": [
    "plt.figure(figsize=(10, 10))\n",
    "for images, label in train_ds.take(5):\n",
    "  for i in range(9):\n",
    "    ax = plt.subplot(3, 3, i + 1)\n",
    "    gray_image = tf.image.rgb_to_grayscale(images[i])\n",
    "\n",
    "    plt.imshow(gray_image.numpy().astype(\"uint8\"))\n",
    "    plt.title(class_names[label[i]])\n",
    "    plt.axis(\"off\")\n"
   ]
  },
  {
   "cell_type": "markdown",
   "id": "91ddf0ed",
   "metadata": {
    "id": "XbMErxymGJTX",
    "papermill": {
     "duration": null,
     "end_time": null,
     "exception": null,
     "start_time": null,
     "status": "pending"
    },
    "tags": []
   },
   "source": [
    "### Normalize Images"
   ]
  },
  {
   "cell_type": "code",
   "execution_count": null,
   "id": "3437c3ec",
   "metadata": {
    "execution": {
     "iopub.execute_input": "2024-07-12T19:58:55.943992Z",
     "iopub.status.busy": "2024-07-12T19:58:55.943580Z",
     "iopub.status.idle": "2024-07-12T19:58:58.139956Z",
     "shell.execute_reply": "2024-07-12T19:58:58.139059Z",
     "shell.execute_reply.started": "2024-07-12T19:58:55.943958Z"
    },
    "executionInfo": {
     "elapsed": 5349,
     "status": "ok",
     "timestamp": 1703695781585,
     "user": {
      "displayName": "Nimra",
      "userId": "10918658773379819736"
     },
     "user_tz": 420
    },
    "id": "jQ1Z0nhVGNWD",
    "outputId": "1a9bb75a-ba13-4502-9f07-ea6d080d55c5",
    "papermill": {
     "duration": null,
     "end_time": null,
     "exception": null,
     "start_time": null,
     "status": "pending"
    },
    "tags": []
   },
   "outputs": [],
   "source": [
    "plt.figure(figsize=(10, 10))\n",
    "for images, label in train_ds.take(5):\n",
    "  for i in range(9):\n",
    "    ax = plt.subplot(3, 3, i + 1)\n",
    "    gray_image = tf.image.rgb_to_grayscale(images[i])\n",
    "    norm_image = (gray_image - np.min(gray_image)) / (np.max(gray_image) - np.min(gray_image))\n",
    "\n",
    "    plt.imshow(norm_image)\n",
    "    plt.title(class_names[label[i]])\n",
    "    plt.axis(\"off\")"
   ]
  },
  {
   "cell_type": "markdown",
   "id": "c46710aa",
   "metadata": {
    "id": "GGaTc2heHfeq",
    "papermill": {
     "duration": null,
     "end_time": null,
     "exception": null,
     "start_time": null,
     "status": "pending"
    },
    "tags": []
   },
   "source": [
    "# Conv2D Network"
   ]
  },
  {
   "cell_type": "markdown",
   "id": "12f35c5a",
   "metadata": {
    "id": "btIQSdxuwtE8",
    "papermill": {
     "duration": null,
     "end_time": null,
     "exception": null,
     "start_time": null,
     "status": "pending"
    },
    "tags": []
   },
   "source": [
    "Model Building"
   ]
  },
  {
   "cell_type": "code",
   "execution_count": null,
   "id": "6439eed5",
   "metadata": {
    "execution": {
     "iopub.execute_input": "2024-07-12T19:59:05.536685Z",
     "iopub.status.busy": "2024-07-12T19:59:05.535836Z",
     "iopub.status.idle": "2024-07-12T19:59:05.623630Z",
     "shell.execute_reply": "2024-07-12T19:59:05.622658Z",
     "shell.execute_reply.started": "2024-07-12T19:59:05.536651Z"
    },
    "executionInfo": {
     "elapsed": 1004,
     "status": "ok",
     "timestamp": 1703695789411,
     "user": {
      "displayName": "Nimra",
      "userId": "10918658773379819736"
     },
     "user_tz": 420
    },
    "id": "H2339JJywwIn",
    "papermill": {
     "duration": null,
     "end_time": null,
     "exception": null,
     "start_time": null,
     "status": "pending"
    },
    "tags": []
   },
   "outputs": [],
   "source": [
    "num_classes = len(class_names)\n",
    "\n",
    "model_conv2 = Sequential([\n",
    "  layers.Rescaling(1./255, input_shape=(img_height, img_width, 3)),\n",
    "  layers.Conv2D(16, 3, padding='same', activation='relu'),\n",
    "  layers.MaxPooling2D(),\n",
    "  layers.Conv2D(32, 3, padding='same', activation='relu'),\n",
    "  layers.MaxPooling2D(),\n",
    "  layers.Conv2D(64, 3, padding='same', activation='relu'),\n",
    "  layers.MaxPooling2D(),\n",
    "  layers.Flatten(),\n",
    "  layers.Dense(128, activation='relu'),\n",
    "  layers.Dense(num_classes)\n",
    "])"
   ]
  },
  {
   "cell_type": "code",
   "execution_count": null,
   "id": "8f21eeae",
   "metadata": {
    "execution": {
     "iopub.execute_input": "2024-07-12T19:59:07.737575Z",
     "iopub.status.busy": "2024-07-12T19:59:07.736741Z",
     "iopub.status.idle": "2024-07-12T19:59:07.751402Z",
     "shell.execute_reply": "2024-07-12T19:59:07.750689Z",
     "shell.execute_reply.started": "2024-07-12T19:59:07.737542Z"
    },
    "executionInfo": {
     "elapsed": 4,
     "status": "ok",
     "timestamp": 1703695791260,
     "user": {
      "displayName": "Nimra",
      "userId": "10918658773379819736"
     },
     "user_tz": 420
    },
    "id": "uoTJr18TwwpE",
    "papermill": {
     "duration": null,
     "end_time": null,
     "exception": null,
     "start_time": null,
     "status": "pending"
    },
    "tags": []
   },
   "outputs": [],
   "source": [
    "model_conv2.compile(optimizer='adam',\n",
    "              loss=tf.keras.losses.SparseCategoricalCrossentropy(from_logits=True),\n",
    "              metrics=['accuracy'])"
   ]
  },
  {
   "cell_type": "code",
   "execution_count": null,
   "id": "31f2ad74",
   "metadata": {
    "execution": {
     "iopub.execute_input": "2024-07-12T19:59:09.303742Z",
     "iopub.status.busy": "2024-07-12T19:59:09.302959Z",
     "iopub.status.idle": "2024-07-12T19:59:09.330301Z",
     "shell.execute_reply": "2024-07-12T19:59:09.329557Z",
     "shell.execute_reply.started": "2024-07-12T19:59:09.303710Z"
    },
    "executionInfo": {
     "elapsed": 639,
     "status": "ok",
     "timestamp": 1703695798643,
     "user": {
      "displayName": "Nimra",
      "userId": "10918658773379819736"
     },
     "user_tz": 420
    },
    "id": "MSragilTxND5",
    "outputId": "226283b3-ac2b-4252-f40b-397c49e3f9af",
    "papermill": {
     "duration": null,
     "end_time": null,
     "exception": null,
     "start_time": null,
     "status": "pending"
    },
    "tags": []
   },
   "outputs": [],
   "source": [
    "model_conv2.summary()"
   ]
  },
  {
   "cell_type": "code",
   "execution_count": null,
   "id": "cfe9f139",
   "metadata": {
    "execution": {
     "iopub.execute_input": "2024-07-12T19:59:11.651075Z",
     "iopub.status.busy": "2024-07-12T19:59:11.650398Z",
     "iopub.status.idle": "2024-07-12T19:59:34.716357Z",
     "shell.execute_reply": "2024-07-12T19:59:34.715418Z",
     "shell.execute_reply.started": "2024-07-12T19:59:11.651040Z"
    },
    "executionInfo": {
     "elapsed": 797170,
     "status": "ok",
     "timestamp": 1703696600810,
     "user": {
      "displayName": "Nimra",
      "userId": "10918658773379819736"
     },
     "user_tz": 420
    },
    "id": "sNwGqRMzxT_P",
    "outputId": "365ea35b-5a94-4141-d5ca-c72ae6ea69da",
    "papermill": {
     "duration": null,
     "end_time": null,
     "exception": null,
     "start_time": null,
     "status": "pending"
    },
    "tags": []
   },
   "outputs": [],
   "source": [
    "epochs=10\n",
    "history = model_conv2.fit(\n",
    "  train_ds,\n",
    "  validation_data=val_ds,\n",
    "  epochs=epochs\n",
    ")"
   ]
  },
  {
   "cell_type": "markdown",
   "id": "e8500e1b",
   "metadata": {
    "id": "d0J2qPFAx7D1",
    "papermill": {
     "duration": null,
     "end_time": null,
     "exception": null,
     "start_time": null,
     "status": "pending"
    },
    "tags": []
   },
   "source": [
    "### Evaluation"
   ]
  },
  {
   "cell_type": "code",
   "execution_count": null,
   "id": "26ec6887",
   "metadata": {
    "execution": {
     "iopub.execute_input": "2024-07-12T19:59:52.774680Z",
     "iopub.status.busy": "2024-07-12T19:59:52.774290Z",
     "iopub.status.idle": "2024-07-12T19:59:53.092563Z",
     "shell.execute_reply": "2024-07-12T19:59:53.091668Z",
     "shell.execute_reply.started": "2024-07-12T19:59:52.774646Z"
    },
    "executionInfo": {
     "elapsed": 10622,
     "status": "ok",
     "timestamp": 1703696627499,
     "user": {
      "displayName": "Nimra",
      "userId": "10918658773379819736"
     },
     "user_tz": 420
    },
    "id": "e5c0-aNQyBbJ",
    "outputId": "be5ae688-0261-4182-a78d-027070bbfbd8",
    "papermill": {
     "duration": null,
     "end_time": null,
     "exception": null,
     "start_time": null,
     "status": "pending"
    },
    "tags": []
   },
   "outputs": [],
   "source": [
    "test_ds=model_conv2.evaluate(val_ds)\n"
   ]
  },
  {
   "cell_type": "markdown",
   "id": "a4255c93",
   "metadata": {
    "id": "lwfP5MU2IjTO",
    "papermill": {
     "duration": null,
     "end_time": null,
     "exception": null,
     "start_time": null,
     "status": "pending"
    },
    "tags": []
   },
   "source": [
    "### Classification Report"
   ]
  },
  {
   "cell_type": "code",
   "execution_count": null,
   "id": "d1357d4a",
   "metadata": {
    "execution": {
     "iopub.execute_input": "2024-07-12T19:59:59.328368Z",
     "iopub.status.busy": "2024-07-12T19:59:59.327356Z",
     "iopub.status.idle": "2024-07-12T20:00:00.453846Z",
     "shell.execute_reply": "2024-07-12T20:00:00.452888Z",
     "shell.execute_reply.started": "2024-07-12T19:59:59.328333Z"
    },
    "executionInfo": {
     "elapsed": 5016,
     "status": "ok",
     "timestamp": 1703696632512,
     "user": {
      "displayName": "Nimra",
      "userId": "10918658773379819736"
     },
     "user_tz": 420
    },
    "id": "5Tinu1DdIn_n",
    "outputId": "b59efae3-fc16-4d07-d1d4-6b761945dcc3",
    "papermill": {
     "duration": null,
     "end_time": null,
     "exception": null,
     "start_time": null,
     "status": "pending"
    },
    "tags": []
   },
   "outputs": [],
   "source": [
    "true_labels = []\n",
    "predicted_labels = []\n",
    "val_preds = model_conv2.predict(val_ds)\n",
    "\n",
    "for images, labels in val_ds:\n",
    "    true_labels.extend(labels.numpy())\n",
    "\n",
    "predicted_labels = np.argmax(val_preds, axis=1)\n",
    "\n",
    "report = classification_report(true_labels, predicted_labels, output_dict=True)\n",
    "\n",
    "report_df = pd.DataFrame(report)\n",
    "\n",
    "print(report_df)"
   ]
  },
  {
   "cell_type": "markdown",
   "id": "7454e7a1",
   "metadata": {
    "id": "zaUgAlkKH4ug",
    "papermill": {
     "duration": null,
     "end_time": null,
     "exception": null,
     "start_time": null,
     "status": "pending"
    },
    "tags": []
   },
   "source": [
    "### Create plots of the loss and accuracy on the training and validation sets"
   ]
  },
  {
   "cell_type": "code",
   "execution_count": null,
   "id": "7cf17500",
   "metadata": {
    "execution": {
     "iopub.execute_input": "2024-07-12T20:00:10.058964Z",
     "iopub.status.busy": "2024-07-12T20:00:10.058554Z",
     "iopub.status.idle": "2024-07-12T20:00:10.406275Z",
     "shell.execute_reply": "2024-07-12T20:00:10.405203Z",
     "shell.execute_reply.started": "2024-07-12T20:00:10.058930Z"
    },
    "executionInfo": {
     "elapsed": 618,
     "status": "ok",
     "timestamp": 1703696641386,
     "user": {
      "displayName": "Nimra",
      "userId": "10918658773379819736"
     },
     "user_tz": 420
    },
    "id": "MdIEUcAFH30B",
    "outputId": "73c83626-b774-4619-93a0-56dcb169e33f",
    "papermill": {
     "duration": null,
     "end_time": null,
     "exception": null,
     "start_time": null,
     "status": "pending"
    },
    "tags": []
   },
   "outputs": [],
   "source": [
    "acc = history.history['accuracy']\n",
    "val_acc = history.history['val_accuracy']\n",
    "\n",
    "loss = history.history['loss']\n",
    "val_loss = history.history['val_loss']\n",
    "\n",
    "epochs_range = range(epochs)\n",
    "\n",
    "plt.figure(figsize=(8, 6))\n",
    "plt.subplot(1, 2, 1)\n",
    "plt.plot(epochs_range, acc, label='Training Accuracy')\n",
    "plt.plot(epochs_range, val_acc, label='Validation Accuracy')\n",
    "plt.legend(loc='lower right')\n",
    "plt.title('Training and Validation Accuracy')"
   ]
  },
  {
   "cell_type": "code",
   "execution_count": null,
   "id": "5a1b8d3c",
   "metadata": {
    "execution": {
     "iopub.execute_input": "2024-07-12T20:00:17.622116Z",
     "iopub.status.busy": "2024-07-12T20:00:17.621726Z",
     "iopub.status.idle": "2024-07-12T20:00:17.912292Z",
     "shell.execute_reply": "2024-07-12T20:00:17.911354Z",
     "shell.execute_reply.started": "2024-07-12T20:00:17.622085Z"
    },
    "executionInfo": {
     "elapsed": 1283,
     "status": "ok",
     "timestamp": 1703696648665,
     "user": {
      "displayName": "Nimra",
      "userId": "10918658773379819736"
     },
     "user_tz": 420
    },
    "id": "W0r0YGv1LOC0",
    "outputId": "e85ffb72-f5d5-4820-cf8b-0f48f69ba148",
    "papermill": {
     "duration": null,
     "end_time": null,
     "exception": null,
     "start_time": null,
     "status": "pending"
    },
    "tags": []
   },
   "outputs": [],
   "source": [
    "\n",
    "plt.subplot(1, 2, 2)\n",
    "plt.plot(epochs_range, loss, label='Training Loss')\n",
    "plt.plot(epochs_range, val_loss, label='Validation Loss')\n",
    "plt.legend(loc='upper right')\n",
    "plt.title('Training and Validation Loss')\n",
    "plt.show()"
   ]
  },
  {
   "cell_type": "markdown",
   "id": "7051a38c",
   "metadata": {
    "id": "tf2ziUNBLQZb",
    "papermill": {
     "duration": null,
     "end_time": null,
     "exception": null,
     "start_time": null,
     "status": "pending"
    },
    "tags": []
   },
   "source": [
    "### ResNet50 Model"
   ]
  },
  {
   "cell_type": "markdown",
   "id": "5f61bab3",
   "metadata": {
    "id": "7NMV-sLJFumy",
    "papermill": {
     "duration": null,
     "end_time": null,
     "exception": null,
     "start_time": null,
     "status": "pending"
    },
    "tags": []
   },
   "source": [
    "Build the Model"
   ]
  },
  {
   "cell_type": "code",
   "execution_count": null,
   "id": "e7d945c3",
   "metadata": {
    "execution": {
     "iopub.execute_input": "2024-07-12T20:00:57.730645Z",
     "iopub.status.busy": "2024-07-12T20:00:57.729896Z",
     "iopub.status.idle": "2024-07-12T20:00:59.874908Z",
     "shell.execute_reply": "2024-07-12T20:00:59.873836Z",
     "shell.execute_reply.started": "2024-07-12T20:00:57.730614Z"
    },
    "executionInfo": {
     "elapsed": 8186,
     "status": "ok",
     "timestamp": 1703696663352,
     "user": {
      "displayName": "Nimra",
      "userId": "10918658773379819736"
     },
     "user_tz": 420
    },
    "id": "N76-BzyBLXEk",
    "outputId": "7b356f66-e174-4a71-828b-9e9823e584e5",
    "papermill": {
     "duration": null,
     "end_time": null,
     "exception": null,
     "start_time": null,
     "status": "pending"
    },
    "tags": []
   },
   "outputs": [],
   "source": [
    "# ResNet50 model\n",
    "resnet_50 = ResNet50(include_top=False, weights='imagenet', input_shape=(img_height, img_width, 3))\n",
    "for layer in resnet_50.layers:\n",
    "    layer.trainable = False"
   ]
  },
  {
   "cell_type": "code",
   "execution_count": null,
   "id": "ddeec48b",
   "metadata": {
    "execution": {
     "iopub.execute_input": "2024-07-12T20:01:04.635210Z",
     "iopub.status.busy": "2024-07-12T20:01:04.634036Z",
     "iopub.status.idle": "2024-07-12T20:01:04.711079Z",
     "shell.execute_reply": "2024-07-12T20:01:04.710292Z",
     "shell.execute_reply.started": "2024-07-12T20:01:04.635174Z"
    },
    "executionInfo": {
     "elapsed": 5,
     "status": "ok",
     "timestamp": 1703696663942,
     "user": {
      "displayName": "Nimra",
      "userId": "10918658773379819736"
     },
     "user_tz": 420
    },
    "id": "G4h1ZykKLfIZ",
    "papermill": {
     "duration": null,
     "end_time": null,
     "exception": null,
     "start_time": null,
     "status": "pending"
    },
    "tags": []
   },
   "outputs": [],
   "source": [
    "# build the entire model\n",
    "x = resnet_50.output\n",
    "x = layers.GlobalAveragePooling2D()(x)\n",
    "x = layers.Dense(512, activation='relu')(x)\n",
    "x = layers.Dropout(0.5)(x)\n",
    "x = layers.Dense(256, activation='relu')(x)\n",
    "x = layers.Dropout(0.5)(x)\n",
    "x = layers.Dense(128, activation='relu')(x)\n",
    "x = layers.Dropout(0.5)(x)\n",
    "x = layers.Dense(64, activation='relu')(x)\n",
    "x = layers.Dropout(0.5)(x)\n",
    "predictions = layers.Dense(num_classes, activation='softmax')(x)\n",
    "model = Model(inputs = resnet_50.input, outputs = predictions)"
   ]
  },
  {
   "cell_type": "code",
   "execution_count": null,
   "id": "44b87b41",
   "metadata": {
    "execution": {
     "iopub.execute_input": "2024-07-12T20:01:08.406060Z",
     "iopub.status.busy": "2024-07-12T20:01:08.405140Z",
     "iopub.status.idle": "2024-07-12T20:01:08.411438Z",
     "shell.execute_reply": "2024-07-12T20:01:08.410466Z",
     "shell.execute_reply.started": "2024-07-12T20:01:08.406024Z"
    },
    "executionInfo": {
     "elapsed": 369,
     "status": "ok",
     "timestamp": 1703696675030,
     "user": {
      "displayName": "Nimra",
      "userId": "10918658773379819736"
     },
     "user_tz": 420
    },
    "id": "yD4UlsDyL4Th",
    "papermill": {
     "duration": null,
     "end_time": null,
     "exception": null,
     "start_time": null,
     "status": "pending"
    },
    "tags": []
   },
   "outputs": [],
   "source": [
    "# define training function\n",
    "def trainModel(model, epochs, optimizer):\n",
    "    batch_size = 32\n",
    "    model.compile(optimizer=optimizer, loss=\"sparse_categorical_crossentropy\", metrics=[\"accuracy\"])\n",
    "    return model.fit(train_ds, validation_data=val_ds, epochs=epochs, batch_size=batch_size)"
   ]
  },
  {
   "cell_type": "code",
   "execution_count": null,
   "id": "29b7dff5",
   "metadata": {
    "execution": {
     "iopub.execute_input": "2024-07-12T20:01:10.815760Z",
     "iopub.status.busy": "2024-07-12T20:01:10.815400Z",
     "iopub.status.idle": "2024-07-12T20:02:10.757499Z",
     "shell.execute_reply": "2024-07-12T20:02:10.756464Z",
     "shell.execute_reply.started": "2024-07-12T20:01:10.815730Z"
    },
    "executionInfo": {
     "elapsed": 2713910,
     "status": "ok",
     "timestamp": 1703699390674,
     "user": {
      "displayName": "Nimra",
      "userId": "10918658773379819736"
     },
     "user_tz": 420
    },
    "id": "Ietmv8rvL4Nc",
    "outputId": "81f51aba-f635-4c9a-a60f-2923a1f6cceb",
    "papermill": {
     "duration": null,
     "end_time": null,
     "exception": null,
     "start_time": null,
     "status": "pending"
    },
    "tags": []
   },
   "outputs": [],
   "source": [
    "# launch the training\n",
    "model_history = trainModel(model = model, epochs = 10, optimizer = \"Adam\")"
   ]
  },
  {
   "cell_type": "markdown",
   "id": "a13d4850",
   "metadata": {
    "id": "PmwlK5kAC_8o",
    "papermill": {
     "duration": null,
     "end_time": null,
     "exception": null,
     "start_time": null,
     "status": "pending"
    },
    "tags": []
   },
   "source": [
    "# Evaluation"
   ]
  },
  {
   "cell_type": "code",
   "execution_count": null,
   "id": "2436e64c",
   "metadata": {
    "execution": {
     "iopub.execute_input": "2024-07-12T20:02:17.433089Z",
     "iopub.status.busy": "2024-07-12T20:02:17.432707Z",
     "iopub.status.idle": "2024-07-12T20:02:18.101965Z",
     "shell.execute_reply": "2024-07-12T20:02:18.101034Z",
     "shell.execute_reply.started": "2024-07-12T20:02:17.433058Z"
    },
    "executionInfo": {
     "elapsed": 81492,
     "status": "ok",
     "timestamp": 1703699472995,
     "user": {
      "displayName": "Nimra",
      "userId": "10918658773379819736"
     },
     "user_tz": 420
    },
    "id": "F8BMKzQMDDHG",
    "outputId": "8d36b14a-547f-42b1-e4e1-95cf67331746",
    "papermill": {
     "duration": null,
     "end_time": null,
     "exception": null,
     "start_time": null,
     "status": "pending"
    },
    "tags": []
   },
   "outputs": [],
   "source": [
    "test_ds=model.evaluate(val_ds)"
   ]
  },
  {
   "cell_type": "markdown",
   "id": "011a9844",
   "metadata": {
    "id": "RXQNUXs0JUa3",
    "papermill": {
     "duration": null,
     "end_time": null,
     "exception": null,
     "start_time": null,
     "status": "pending"
    },
    "tags": []
   },
   "source": [
    "# Classification Report"
   ]
  },
  {
   "cell_type": "code",
   "execution_count": null,
   "id": "704d0fa8",
   "metadata": {
    "execution": {
     "iopub.execute_input": "2024-07-12T20:03:24.257346Z",
     "iopub.status.busy": "2024-07-12T20:03:24.256592Z",
     "iopub.status.idle": "2024-07-12T20:03:33.101876Z",
     "shell.execute_reply": "2024-07-12T20:03:33.100756Z",
     "shell.execute_reply.started": "2024-07-12T20:03:24.257314Z"
    },
    "executionInfo": {
     "elapsed": 84852,
     "status": "ok",
     "timestamp": 1703699607960,
     "user": {
      "displayName": "Nimra",
      "userId": "10918658773379819736"
     },
     "user_tz": 420
    },
    "id": "NyFxE4EdJT2k",
    "outputId": "62943496-3652-43f1-876e-98e216a2de69",
    "papermill": {
     "duration": null,
     "end_time": null,
     "exception": null,
     "start_time": null,
     "status": "pending"
    },
    "tags": []
   },
   "outputs": [],
   "source": [
    "true_labels = []\n",
    "predicted_labels = []\n",
    "val_preds = model.predict(val_ds)\n",
    "\n",
    "for images, labels in val_ds:\n",
    "    true_labels.extend(labels.numpy())\n",
    "\n",
    "predicted_labels = np.argmax(val_preds, axis=1)\n",
    "\n",
    "report = classification_report(true_labels, predicted_labels, output_dict=True)\n",
    "\n",
    "report_df = pd.DataFrame(report)\n",
    "\n",
    "print(report_df)"
   ]
  },
  {
   "cell_type": "markdown",
   "id": "7a8cae8f",
   "metadata": {
    "id": "tBYvzBzqD0rB",
    "papermill": {
     "duration": null,
     "end_time": null,
     "exception": null,
     "start_time": null,
     "status": "pending"
    },
    "tags": []
   },
   "source": [
    "### Create plots of the loss and accuracy on the training and validation sets"
   ]
  },
  {
   "cell_type": "code",
   "execution_count": null,
   "id": "5780c3e4",
   "metadata": {
    "execution": {
     "iopub.execute_input": "2024-07-12T20:04:22.088875Z",
     "iopub.status.busy": "2024-07-12T20:04:22.088038Z",
     "iopub.status.idle": "2024-07-12T20:04:22.433914Z",
     "shell.execute_reply": "2024-07-12T20:04:22.432993Z",
     "shell.execute_reply.started": "2024-07-12T20:04:22.088845Z"
    },
    "executionInfo": {
     "elapsed": 513,
     "status": "ok",
     "timestamp": 1703699617438,
     "user": {
      "displayName": "Nimra",
      "userId": "10918658773379819736"
     },
     "user_tz": 420
    },
    "id": "BD5V_7K7D3At",
    "outputId": "8d657a9a-a474-4779-b8ce-2a617c133c47",
    "papermill": {
     "duration": null,
     "end_time": null,
     "exception": null,
     "start_time": null,
     "status": "pending"
    },
    "tags": []
   },
   "outputs": [],
   "source": [
    "acc = model_history.history['accuracy']\n",
    "val_acc = model_history.history['val_accuracy']\n",
    "\n",
    "loss = model_history.history['loss']\n",
    "val_loss = model_history.history['val_loss']\n",
    "\n",
    "epochs_range = range(epochs)\n",
    "\n",
    "plt.figure(figsize=(8, 6))\n",
    "plt.subplot(1, 2, 1)\n",
    "plt.plot(epochs_range, acc, label='Training Accuracy')\n",
    "plt.plot(epochs_range, val_acc, label='Validation Accuracy')\n",
    "plt.legend(loc='lower right')\n",
    "plt.title('Training and Validation Accuracy of Resnet-50')"
   ]
  },
  {
   "cell_type": "code",
   "execution_count": null,
   "id": "bb919c45",
   "metadata": {
    "execution": {
     "iopub.execute_input": "2024-07-12T20:04:34.927569Z",
     "iopub.status.busy": "2024-07-12T20:04:34.927225Z",
     "iopub.status.idle": "2024-07-12T20:04:35.137459Z",
     "shell.execute_reply": "2024-07-12T20:04:35.136544Z",
     "shell.execute_reply.started": "2024-07-12T20:04:34.927543Z"
    },
    "executionInfo": {
     "elapsed": 483,
     "status": "ok",
     "timestamp": 1703699624382,
     "user": {
      "displayName": "Nimra",
      "userId": "10918658773379819736"
     },
     "user_tz": 420
    },
    "id": "X_TS-9m8EGT8",
    "outputId": "a12dc8b9-a52a-493e-8a2a-9a774cf96f06",
    "papermill": {
     "duration": null,
     "end_time": null,
     "exception": null,
     "start_time": null,
     "status": "pending"
    },
    "tags": []
   },
   "outputs": [],
   "source": [
    "plt.subplot(1, 2, 2)\n",
    "plt.plot(epochs_range, loss, label='Training Loss')\n",
    "plt.plot(epochs_range, val_loss, label='Validation Loss')\n",
    "plt.legend(loc='upper right')\n",
    "plt.title('Training and Validation Loss Resnet-50')\n",
    "plt.show()"
   ]
  },
  {
   "cell_type": "code",
   "execution_count": null,
   "id": "ef14240b",
   "metadata": {
    "execution": {
     "iopub.execute_input": "2024-07-12T20:46:18.709943Z",
     "iopub.status.busy": "2024-07-12T20:46:18.709061Z",
     "iopub.status.idle": "2024-07-12T20:46:19.663317Z",
     "shell.execute_reply": "2024-07-12T20:46:19.661884Z",
     "shell.execute_reply.started": "2024-07-12T20:46:18.709908Z"
    },
    "papermill": {
     "duration": null,
     "end_time": null,
     "exception": null,
     "start_time": null,
     "status": "pending"
    },
    "tags": []
   },
   "outputs": [],
   "source": [
    "from sklearn.metrics import confusion_matrix\n",
    "import numpy as np\n",
    "import matplotlib.pyplot as plt\n",
    "import seaborn as sns\n",
    "from sklearn.metrics import ConfusionMatrixDisplay\n",
    "\n",
    "# Dự đoán nhãn của dữ liệu validation\n",
    "y_pred = model.predict(val_ds)\n",
    "y_pred = np.round(y_pred)  # Chuyển đổi dự đoán thành nhãn nhị phân (0 hoặc 1)\n",
    "\n",
    "# Lấy nhãn thực tế từ dữ liệu validation\n",
    "y_true = []\n",
    "for _, labels in val_ds:\n",
    "    y_true.extend(labels.numpy())\n",
    "y_true = np.array(y_true)\n",
    "\n",
    "# Tính toán confusion matrix\n",
    "cm = confusion_matrix(y_true, y_pred)\n",
    "\n",
    "# Vẽ biểu đồ confusion matrix bằng seaborn\n",
    "labels = ['Negative', 'Positive']\n",
    "plt.figure(figsize=(8, 6))\n",
    "sns.set(font_scale=1.2)  # Cài đặt font scale cho bảng\n",
    "sns.heatmap(cm, annot=True, fmt='d', cmap='Blues', cbar=False,\n",
    "            annot_kws={\"size\": 12}, xticklabels=labels, yticklabels=labels)\n",
    "plt.xlabel('Predicted', fontsize=14)\n",
    "plt.ylabel('Actual', fontsize=14)\n",
    "plt.title('Confusion Matrix', fontsize=16)\n",
    "plt.xticks(fontsize=12)\n",
    "plt.yticks(fontsize=12)\n",
    "plt.show()\n"
   ]
  },
  {
   "cell_type": "code",
   "execution_count": null,
   "id": "3aa84ed9",
   "metadata": {
    "execution": {
     "iopub.execute_input": "2024-07-12T20:30:33.672703Z",
     "iopub.status.busy": "2024-07-12T20:30:33.672034Z",
     "iopub.status.idle": "2024-07-12T20:30:33.685921Z",
     "shell.execute_reply": "2024-07-12T20:30:33.685014Z",
     "shell.execute_reply.started": "2024-07-12T20:30:33.672671Z"
    },
    "papermill": {
     "duration": null,
     "end_time": null,
     "exception": null,
     "start_time": null,
     "status": "pending"
    },
    "tags": []
   },
   "outputs": [],
   "source": [
    "from tensorflow.keras.applications import Xception\n",
    "from tensorflow.keras.models import Model\n",
    "from tensorflow.keras.layers import Dropout\n",
    "from tensorflow.keras.models import Sequential\n",
    "from tensorflow.keras.layers import Conv2D, MaxPool2D, Flatten, Dense\n",
    "from tensorflow.keras.metrics import Recall,AUC\n",
    "from tensorflow.keras.utils import plot_model\n",
    "from tensorflow.keras.callbacks import EarlyStopping, ReduceLROnPlateau"
   ]
  },
  {
   "cell_type": "code",
   "execution_count": null,
   "id": "71a65777",
   "metadata": {
    "execution": {
     "iopub.execute_input": "2024-07-12T20:30:36.342771Z",
     "iopub.status.busy": "2024-07-12T20:30:36.341543Z",
     "iopub.status.idle": "2024-07-12T20:30:38.081257Z",
     "shell.execute_reply": "2024-07-12T20:30:38.080283Z",
     "shell.execute_reply.started": "2024-07-12T20:30:36.342713Z"
    },
    "papermill": {
     "duration": null,
     "end_time": null,
     "exception": null,
     "start_time": null,
     "status": "pending"
    },
    "tags": []
   },
   "outputs": [],
   "source": [
    "xception = Xception(include_top=False, input_shape=(180, 180, 3), weights='imagenet')\n",
    "input_to_model = xception.input\n",
    "#turn off training\n",
    "xception.trainable = False\n",
    "\n",
    "x = Flatten()(xception.output)\n",
    "x = Dense(64,activation = 'relu')(x)\n",
    "output_to_model = Dense(1,activation = 'sigmoid')(x)\n",
    "model_xception = Model(inputs = input_to_model,outputs = output_to_model)"
   ]
  },
  {
   "cell_type": "code",
   "execution_count": null,
   "id": "3e1d93d5",
   "metadata": {
    "execution": {
     "iopub.execute_input": "2024-07-12T20:30:57.304964Z",
     "iopub.status.busy": "2024-07-12T20:30:57.304580Z",
     "iopub.status.idle": "2024-07-12T20:30:57.325563Z",
     "shell.execute_reply": "2024-07-12T20:30:57.324732Z",
     "shell.execute_reply.started": "2024-07-12T20:30:57.304934Z"
    },
    "papermill": {
     "duration": null,
     "end_time": null,
     "exception": null,
     "start_time": null,
     "status": "pending"
    },
    "tags": []
   },
   "outputs": [],
   "source": [
    "model_xception.compile(optimizer = 'adam',loss = 'binary_crossentropy',metrics = ['accuracy',Recall(),AUC()])"
   ]
  },
  {
   "cell_type": "code",
   "execution_count": null,
   "id": "7c927e2a",
   "metadata": {
    "execution": {
     "iopub.execute_input": "2024-07-12T20:32:54.206892Z",
     "iopub.status.busy": "2024-07-12T20:32:54.206445Z",
     "iopub.status.idle": "2024-07-12T20:33:58.944751Z",
     "shell.execute_reply": "2024-07-12T20:33:58.943608Z",
     "shell.execute_reply.started": "2024-07-12T20:32:54.206858Z"
    },
    "papermill": {
     "duration": null,
     "end_time": null,
     "exception": null,
     "start_time": null,
     "status": "pending"
    },
    "tags": []
   },
   "outputs": [],
   "source": [
    "history_xcept = model_xception.fit(x = train_ds,batch_size=32,epochs=10,validation_data = val_ds)"
   ]
  },
  {
   "cell_type": "code",
   "execution_count": null,
   "id": "4f3c5e4d",
   "metadata": {
    "execution": {
     "iopub.execute_input": "2024-07-12T20:34:47.706452Z",
     "iopub.status.busy": "2024-07-12T20:34:47.705227Z",
     "iopub.status.idle": "2024-07-12T20:34:48.995702Z",
     "shell.execute_reply": "2024-07-12T20:34:48.994753Z",
     "shell.execute_reply.started": "2024-07-12T20:34:47.706386Z"
    },
    "papermill": {
     "duration": null,
     "end_time": null,
     "exception": null,
     "start_time": null,
     "status": "pending"
    },
    "tags": []
   },
   "outputs": [],
   "source": [
    "test_ds=model_xception.evaluate(val_ds)"
   ]
  },
  {
   "cell_type": "code",
   "execution_count": null,
   "id": "69ea8d03",
   "metadata": {
    "execution": {
     "iopub.execute_input": "2024-07-12T20:35:20.334776Z",
     "iopub.status.busy": "2024-07-12T20:35:20.334307Z",
     "iopub.status.idle": "2024-07-12T20:35:27.131852Z",
     "shell.execute_reply": "2024-07-12T20:35:27.130764Z",
     "shell.execute_reply.started": "2024-07-12T20:35:20.334729Z"
    },
    "papermill": {
     "duration": null,
     "end_time": null,
     "exception": null,
     "start_time": null,
     "status": "pending"
    },
    "tags": []
   },
   "outputs": [],
   "source": [
    "true_labels = []\n",
    "predicted_labels = []\n",
    "val_preds = model_xception.predict(val_ds)\n",
    "\n",
    "for images, labels in val_ds:\n",
    "    true_labels.extend(labels.numpy())\n",
    "\n",
    "predicted_labels = np.argmax(val_preds, axis=1)\n",
    "\n",
    "report = classification_report(true_labels, predicted_labels, output_dict=True)\n",
    "\n",
    "report_df = pd.DataFrame(report)\n",
    "\n",
    "print(report_df)"
   ]
  },
  {
   "cell_type": "code",
   "execution_count": null,
   "id": "91972fe5",
   "metadata": {
    "execution": {
     "iopub.execute_input": "2024-07-12T20:36:36.527863Z",
     "iopub.status.busy": "2024-07-12T20:36:36.527003Z",
     "iopub.status.idle": "2024-07-12T20:36:36.874612Z",
     "shell.execute_reply": "2024-07-12T20:36:36.873601Z",
     "shell.execute_reply.started": "2024-07-12T20:36:36.527799Z"
    },
    "papermill": {
     "duration": null,
     "end_time": null,
     "exception": null,
     "start_time": null,
     "status": "pending"
    },
    "tags": []
   },
   "outputs": [],
   "source": [
    "acc = history_xcept.history['accuracy']\n",
    "val_acc = history_xcept.history['val_accuracy']\n",
    "\n",
    "loss = history_xcept.history['loss']\n",
    "val_loss = history_xcept.history['val_loss']\n",
    "\n",
    "epochs_range = range(epochs)\n",
    "\n",
    "plt.figure(figsize=(8, 6))\n",
    "plt.subplot(1, 2, 1)\n",
    "plt.plot(epochs_range, acc, label='Training Accuracy')\n",
    "plt.plot(epochs_range, val_acc, label='Validation Accuracy')\n",
    "plt.legend(loc='lower right')\n",
    "plt.title('Training and Validation Accuracy of Re')"
   ]
  },
  {
   "cell_type": "code",
   "execution_count": null,
   "id": "0b059ee0",
   "metadata": {
    "execution": {
     "iopub.execute_input": "2024-07-12T20:36:54.439953Z",
     "iopub.status.busy": "2024-07-12T20:36:54.438923Z",
     "iopub.status.idle": "2024-07-12T20:36:54.727063Z",
     "shell.execute_reply": "2024-07-12T20:36:54.726082Z",
     "shell.execute_reply.started": "2024-07-12T20:36:54.439913Z"
    },
    "papermill": {
     "duration": null,
     "end_time": null,
     "exception": null,
     "start_time": null,
     "status": "pending"
    },
    "tags": []
   },
   "outputs": [],
   "source": [
    "plt.subplot(1, 2, 2)\n",
    "plt.plot(epochs_range, loss, label='Training Loss')\n",
    "plt.plot(epochs_range, val_loss, label='Validation Loss')\n",
    "plt.legend(loc='upper right')\n",
    "plt.title('Training and Validation Loss Resnet-50')\n",
    "plt.show()"
   ]
  },
  {
   "cell_type": "code",
   "execution_count": null,
   "id": "a5de8184",
   "metadata": {
    "execution": {
     "iopub.execute_input": "2024-07-12T20:43:30.346453Z",
     "iopub.status.busy": "2024-07-12T20:43:30.346023Z",
     "iopub.status.idle": "2024-07-12T20:43:31.760254Z",
     "shell.execute_reply": "2024-07-12T20:43:31.758893Z",
     "shell.execute_reply.started": "2024-07-12T20:43:30.346419Z"
    },
    "papermill": {
     "duration": null,
     "end_time": null,
     "exception": null,
     "start_time": null,
     "status": "pending"
    },
    "tags": []
   },
   "outputs": [],
   "source": [
    "from sklearn.metrics import confusion_matrix\n",
    "import numpy as np\n",
    "import matplotlib.pyplot as plt\n",
    "import seaborn as sns\n",
    "from sklearn.metrics import ConfusionMatrixDisplay\n",
    "\n",
    "# Dự đoán nhãn của dữ liệu validation\n",
    "y_pred = model_xception.predict(val_ds)\n",
    "y_pred = np.round(y_pred)  # Chuyển đổi dự đoán thành nhãn nhị phân (0 hoặc 1)\n",
    "\n",
    "# Lấy nhãn thực tế từ dữ liệu validation\n",
    "y_true = []\n",
    "for _, labels in val_ds:\n",
    "    y_true.extend(labels.numpy())\n",
    "y_true = np.array(y_true)\n",
    "\n",
    "# Tính toán confusion matrix\n",
    "cm = confusion_matrix(y_true, y_pred)\n",
    "\n",
    "# Vẽ biểu đồ confusion matrix bằng seaborn\n",
    "labels = ['Negative', 'Positive']\n",
    "plt.figure(figsize=(8, 6))\n",
    "sns.set(font_scale=1.2)  # Cài đặt font scale cho bảng\n",
    "sns.heatmap(cm, annot=True, fmt='d', cmap='Blues', cbar=False,\n",
    "            annot_kws={\"size\": 12}, xticklabels=labels, yticklabels=labels)\n",
    "plt.xlabel('Predicted', fontsize=14)\n",
    "plt.ylabel('Actual', fontsize=14)\n",
    "plt.title('Confusion Matrix', fontsize=16)\n",
    "plt.xticks(fontsize=12)\n",
    "plt.yticks(fontsize=12)\n",
    "plt.show()\n"
   ]
  },
  {
   "cell_type": "code",
   "execution_count": null,
   "id": "02fd4143",
   "metadata": {
    "execution": {
     "iopub.execute_input": "2024-07-12T21:13:52.785112Z",
     "iopub.status.busy": "2024-07-12T21:13:52.784762Z",
     "iopub.status.idle": "2024-07-12T21:13:52.935351Z",
     "shell.execute_reply": "2024-07-12T21:13:52.934251Z",
     "shell.execute_reply.started": "2024-07-12T21:13:52.785085Z"
    },
    "papermill": {
     "duration": null,
     "end_time": null,
     "exception": null,
     "start_time": null,
     "status": "pending"
    },
    "tags": []
   },
   "outputs": [],
   "source": [
    "# Lưu mô hình\n",
    "model_conv2.save('model_conv2.h5')"
   ]
  },
  {
   "cell_type": "code",
   "execution_count": null,
   "id": "86b11653",
   "metadata": {
    "papermill": {
     "duration": null,
     "end_time": null,
     "exception": null,
     "start_time": null,
     "status": "pending"
    },
    "tags": []
   },
   "outputs": [],
   "source": []
  }
 ],
 "metadata": {
  "colab": {
   "provenance": []
  },
  "kaggle": {
   "accelerator": "nvidiaTeslaT4",
   "dataSources": [
    {
     "datasetId": 2072281,
     "sourceId": 3440040,
     "sourceType": "datasetVersion"
    },
    {
     "datasetId": 5379715,
     "sourceId": 8940797,
     "sourceType": "datasetVersion"
    }
   ],
   "dockerImageVersionId": 30747,
   "isGpuEnabled": true,
   "isInternetEnabled": true,
   "language": "python",
   "sourceType": "notebook"
  },
  "kernelspec": {
   "display_name": "Python 3",
   "language": "python",
   "name": "python3"
  },
  "language_info": {
   "codemirror_mode": {
    "name": "ipython",
    "version": 3
   },
   "file_extension": ".py",
   "mimetype": "text/x-python",
   "name": "python",
   "nbconvert_exporter": "python",
   "pygments_lexer": "ipython3",
   "version": "3.10.13"
  },
  "papermill": {
   "default_parameters": {},
   "duration": 27.422702,
   "end_time": "2024-07-12T21:14:39.182641",
   "environment_variables": {},
   "exception": true,
   "input_path": "__notebook__.ipynb",
   "output_path": "__notebook__.ipynb",
   "parameters": {},
   "start_time": "2024-07-12T21:14:11.759939",
   "version": "2.5.0"
  }
 },
 "nbformat": 4,
 "nbformat_minor": 5
}
